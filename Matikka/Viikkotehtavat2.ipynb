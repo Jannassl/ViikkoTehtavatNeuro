{
 "cells": [
  {
   "cell_type": "code",
   "id": "initial_id",
   "metadata": {
    "collapsed": true,
    "ExecuteTime": {
     "end_time": "2025-04-02T15:07:23.002052Z",
     "start_time": "2025-04-02T15:07:22.997885Z"
    }
   },
   "source": [
    "import numpy as np\n",
    "import matplotlib.pyplot as plt\n",
    "import numpy.linalg as la"
   ],
   "outputs": [],
   "execution_count": 19
  },
  {
   "metadata": {},
   "cell_type": "markdown",
   "source": [
    "# Tehtävä 1\n",
    "\n",
    "luodaan w1 ja w2 kerroinmatriisit."
   ],
   "id": "488ca9122e041a0c"
  },
  {
   "metadata": {
    "ExecuteTime": {
     "end_time": "2025-04-02T15:07:23.044069Z",
     "start_time": "2025-04-02T15:07:23.037479Z"
    }
   },
   "cell_type": "code",
   "source": [
    "a0 = np.array([[3,2,5]]).T\n",
    "\n",
    "w1 = np.array([[1.1, -1.3, 1.5],\n",
    "      [0.1, 2.0, 1.7]])\n",
    "w2 = np.array([[2.0, -1.2]])\n",
    "w1, w2, a0"
   ],
   "id": "2edfcba5c4ef2919",
   "outputs": [
    {
     "data": {
      "text/plain": [
       "(array([[ 1.1, -1.3,  1.5],\n",
       "        [ 0.1,  2. ,  1.7]]),\n",
       " array([[ 2. , -1.2]]),\n",
       " array([[3],\n",
       "        [2],\n",
       "        [5]]))"
      ]
     },
     "execution_count": 20,
     "metadata": {},
     "output_type": "execute_result"
    }
   ],
   "execution_count": 20
  },
  {
   "metadata": {
    "ExecuteTime": {
     "end_time": "2025-04-02T15:07:23.136727Z",
     "start_time": "2025-04-02T15:07:23.131567Z"
    }
   },
   "cell_type": "code",
   "source": [
    "a1 = w1 @ a0\n",
    "\n",
    "a2 = w2 @ a1\n",
    "\n",
    "a1, a2"
   ],
   "id": "3b1d762c629ca3c9",
   "outputs": [
    {
     "data": {
      "text/plain": [
       "(array([[ 8.2],\n",
       "        [12.8]]),\n",
       " array([[1.04]]))"
      ]
     },
     "execution_count": 21,
     "metadata": {},
     "output_type": "execute_result"
    }
   ],
   "execution_count": 21
  },
  {
   "metadata": {},
   "cell_type": "markdown",
   "source": [
    "# Tehtävä 2\n",
    "\n",
    "Lasketaan Sigmoid-funktio a1 ja a2 matriiseille."
   ],
   "id": "e0865c74a978262c"
  },
  {
   "metadata": {
    "ExecuteTime": {
     "end_time": "2025-04-02T15:07:31.255217Z",
     "start_time": "2025-04-02T15:07:31.249188Z"
    }
   },
   "cell_type": "code",
   "source": [
    "def sigmoid(s):\n",
    "    return 1 / (1 + np.exp(-s))\n",
    "\n",
    "a1 = sigmoid(w1 @ a0)\n",
    "a2 = sigmoid(w2 @ a1)\n",
    "\n",
    "print(\"A1:\", a1)\n",
    "print(\"A2:\", a2)"
   ],
   "id": "130f64d53240ad2f",
   "outputs": [
    {
     "name": "stdout",
     "output_type": "stream",
     "text": [
      "A1: [[0.99972542]\n",
      " [0.99999724]]\n",
      "A2: [[0.68985771]]\n"
     ]
    }
   ],
   "execution_count": 26
  },
  {
   "metadata": {},
   "cell_type": "markdown",
   "source": [
    "# Tehtävä 3\n",
    "\n",
    "### Luodaan matriisit"
   ],
   "id": "95433fab77dd9cf4"
  },
  {
   "metadata": {
    "ExecuteTime": {
     "end_time": "2025-04-02T15:07:23.286231Z",
     "start_time": "2025-04-02T15:07:23.280231Z"
    }
   },
   "cell_type": "code",
   "source": [
    "# Luodaan x ja y matriisit, sekä X matriisi x:n avulla.\n",
    "x = np.arange(1, 11)\n",
    "y = np.array([14, 12, 34, 24, 43, 38, 41, 57, 55, 50])\n",
    "\n",
    "X = np.vstack([np.ones(len(x)), x]).T\n",
    "\n",
    "print(X)"
   ],
   "id": "a5a7e9adc830af9a",
   "outputs": [
    {
     "name": "stdout",
     "output_type": "stream",
     "text": [
      "[[ 1.  1.]\n",
      " [ 1.  2.]\n",
      " [ 1.  3.]\n",
      " [ 1.  4.]\n",
      " [ 1.  5.]\n",
      " [ 1.  6.]\n",
      " [ 1.  7.]\n",
      " [ 1.  8.]\n",
      " [ 1.  9.]\n",
      " [ 1. 10.]]\n"
     ]
    }
   ],
   "execution_count": 23
  },
  {
   "metadata": {},
   "cell_type": "markdown",
   "source": [
    "# Tehtävä 4\n",
    "\n",
    "### Ratkaistaan regressiokertoimet"
   ],
   "id": "fbc144c430e7315f"
  },
  {
   "metadata": {
    "ExecuteTime": {
     "end_time": "2025-04-02T15:07:23.355060Z",
     "start_time": "2025-04-02T15:07:23.350218Z"
    }
   },
   "cell_type": "code",
   "source": [
    "M = la.inv(X.T @ X) @ X.T @ y\n",
    "print(f\"Regressiokertoimet: {M[0]:.3} ja {M[1]:.3}\")"
   ],
   "id": "9fbcd5d31ddb55bd",
   "outputs": [
    {
     "name": "stdout",
     "output_type": "stream",
     "text": [
      "Regressiokertoimet: 10.6 ja 4.76\n"
     ]
    }
   ],
   "execution_count": 24
  },
  {
   "metadata": {
    "ExecuteTime": {
     "end_time": "2025-04-02T15:07:23.522569Z",
     "start_time": "2025-04-02T15:07:23.427758Z"
    }
   },
   "cell_type": "code",
   "source": [
    "xx = np.linspace(1, 10, 1000)\n",
    "XX = np.vstack([np.ones(len(xx)), xx]).T\n",
    "yy = XX.dot(M)\n",
    "plt.plot(x, y, 'o')\n",
    "plt.plot(xx, yy)"
   ],
   "id": "12d82fe4b0b15a5e",
   "outputs": [
    {
     "data": {
      "text/plain": [
       "[<matplotlib.lines.Line2D at 0x1fe2764cce0>]"
      ]
     },
     "execution_count": 25,
     "metadata": {},
     "output_type": "execute_result"
    },
    {
     "data": {
      "text/plain": [
       "<Figure size 640x480 with 1 Axes>"
      ],
      "image/png": "[encoded data removed]"
     },
     "metadata": {},
     "output_type": "display_data"
    }
   ],
   "execution_count": 25
  },
  {
   "metadata": {
    "ExecuteTime": {
     "end_time": "2025-04-02T15:07:23.547364Z",
     "start_time": "2025-04-02T15:07:23.544256Z"
    }
   },
   "cell_type": "code",
   "source": "",
   "id": "3c863d5d9241ce3",
   "outputs": [],
   "execution_count": null
  }
 ],
 "metadata": {
  "kernelspec": {
   "display_name": "Python 3",
   "language": "python",
   "name": "python3"
  },
  "language_info": {
   "codemirror_mode": {
    "name": "ipython",
    "version": 2
   },
   "file_extension": ".py",
   "mimetype": "text/x-python",
   "name": "python",
   "nbconvert_exporter": "python",
   "pygments_lexer": "ipython2",
   "version": "2.7.6"
  }
 },
 "nbformat": 4,
 "nbformat_minor": 5
}
