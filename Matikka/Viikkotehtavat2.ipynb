{
 "cells": [
  {
   "cell_type": "code",
   "id": "initial_id",
   "metadata": {
    "ExecuteTime": {
     "end_time": "2025-04-02T15:12:50.072884Z",
     "start_time": "2025-04-02T15:12:50.068882Z"
    }
   },
   "source": [
    "import numpy as np\n",
    "import matplotlib.pyplot as plt\n",
    "import numpy.linalg as la"
   ],
   "outputs": [],
   "execution_count": 27
  },
  {
   "cell_type": "markdown",
   "id": "488ca9122e041a0c",
   "metadata": {},
   "source": [
    "# Tehtävä 1\n",
    "\n",
    "luodaan w1 ja w2 kerroinmatriisit."
   ]
  },
  {
   "cell_type": "code",
   "id": "2edfcba5c4ef2919",
   "metadata": {
    "ExecuteTime": {
     "end_time": "2025-04-02T15:12:50.101316Z",
     "start_time": "2025-04-02T15:12:50.095802Z"
    }
   },
   "source": [
    "a0 = np.array([[3,2,5]]).T\n",
    "\n",
    "w1 = np.array([[1.1, -1.3, 1.5],\n",
    "      [0.1, 2.0, 1.7]])\n",
    "w2 = np.array([[2.0, -1.2]])\n",
    "w1, w2, a0"
   ],
   "outputs": [
    {
     "data": {
      "text/plain": [
       "(array([[ 1.1, -1.3,  1.5],\n",
       "        [ 0.1,  2. ,  1.7]]),\n",
       " array([[ 2. , -1.2]]),\n",
       " array([[3],\n",
       "        [2],\n",
       "        [5]]))"
      ]
     },
     "execution_count": 28,
     "metadata": {},
     "output_type": "execute_result"
    }
   ],
   "execution_count": 28
  },
  {
   "cell_type": "code",
   "id": "3b1d762c629ca3c9",
   "metadata": {
    "ExecuteTime": {
     "end_time": "2025-04-02T15:12:50.126376Z",
     "start_time": "2025-04-02T15:12:50.120425Z"
    }
   },
   "source": [
    "a1 = w1 @ a0\n",
    "\n",
    "a2 = w2 @ a1\n",
    "\n",
    "a1, a2"
   ],
   "outputs": [
    {
     "data": {
      "text/plain": [
       "(array([[ 8.2],\n",
       "        [12.8]]),\n",
       " array([[1.04]]))"
      ]
     },
     "execution_count": 29,
     "metadata": {},
     "output_type": "execute_result"
    }
   ],
   "execution_count": 29
  },
  {
   "cell_type": "markdown",
   "id": "e0865c74a978262c",
   "metadata": {},
   "source": [
    "# Tehtävä 2\n",
    "\n",
    "Lasketaan Sigmoid-funktio a1 ja a2 matriiseille."
   ]
  },
  {
   "cell_type": "code",
   "id": "130f64d53240ad2f",
   "metadata": {
    "ExecuteTime": {
     "end_time": "2025-04-02T15:12:50.140396Z",
     "start_time": "2025-04-02T15:12:50.135726Z"
    }
   },
   "source": [
    "def sigmoid(s):\n",
    "    return 1 / (1 + np.exp(-s))\n",
    "\n",
    "a1 = sigmoid(w1 @ a0)\n",
    "a2 = sigmoid(w2 @ a1)\n",
    "\n",
    "print(\"A1:\", a1)\n",
    "print(\"A2:\", a2)"
   ],
   "outputs": [
    {
     "name": "stdout",
     "output_type": "stream",
     "text": [
      "A1: [[0.99972542]\n",
      " [0.99999724]]\n",
      "A2: [[0.68985771]]\n"
     ]
    }
   ],
   "execution_count": 30
  },
  {
   "cell_type": "markdown",
   "id": "95433fab77dd9cf4",
   "metadata": {},
   "source": [
    "# Tehtävä 3\n",
    "\n",
    "### Luodaan matriisit"
   ]
  },
  {
   "cell_type": "code",
   "id": "a5a7e9adc830af9a",
   "metadata": {
    "ExecuteTime": {
     "end_time": "2025-04-02T15:12:50.165131Z",
     "start_time": "2025-04-02T15:12:50.159638Z"
    }
   },
   "source": [
    "# Muodostetaan pystyvektorit x ja y helpommin transpoosin avulla\n",
    "x = np.array([1, 2, 3, 4, 5, 6, 7, 8, 9, 10]).T\n",
    "y = np.array([14, 12, 34, 24, 43, 38, 41, 57, 55, 50]).T\n",
    "\n",
    "# Muodostetaan matriixi X = [1, x]\n",
    "X = np.vstack([np.ones(len(x)), x]).T\n",
    "print(X)"
   ],
   "outputs": [
    {
     "name": "stdout",
     "output_type": "stream",
     "text": [
      "[[ 1.  1.]\n",
      " [ 1.  2.]\n",
      " [ 1.  3.]\n",
      " [ 1.  4.]\n",
      " [ 1.  5.]\n",
      " [ 1.  6.]\n",
      " [ 1.  7.]\n",
      " [ 1.  8.]\n",
      " [ 1.  9.]\n",
      " [ 1. 10.]]\n"
     ]
    }
   ],
   "execution_count": 31
  },
  {
   "cell_type": "markdown",
   "id": "fbc144c430e7315f",
   "metadata": {},
   "source": "### Ratkaistaan regressiokertoimet"
  },
  {
   "cell_type": "code",
   "id": "9fbcd5d31ddb55bd",
   "metadata": {
    "ExecuteTime": {
     "end_time": "2025-04-02T15:12:50.191221Z",
     "start_time": "2025-04-02T15:12:50.187144Z"
    }
   },
   "source": [
    "M = la.inv(X.T @ X) @ X.T @ y\n",
    "print(M)"
   ],
   "outputs": [
    {
     "name": "stdout",
     "output_type": "stream",
     "text": [
      "[10.6         4.76363636]\n"
     ]
    }
   ],
   "execution_count": 32
  },
  {
   "cell_type": "code",
   "id": "12d82fe4b0b15a5e",
   "metadata": {
    "ExecuteTime": {
     "end_time": "2025-04-02T15:12:50.417029Z",
     "start_time": "2025-04-02T15:12:50.336461Z"
    }
   },
   "source": [
    "xx = np.linspace(0, 10, 100)\n",
    "# Muodostetaan matriisi XX = [1, xx]\n",
    "XX = np.vstack([np.ones(len(xx)), xx]).T\n",
    "yy = XX @ M\n",
    "plt.plot(x, y, 'o')\n",
    "plt.plot(xx, yy)\n",
    "plt.show()"
   ],
   "outputs": [
    {
     "data": {
      "text/plain": [
       "<Figure size 640x480 with 1 Axes>"
      ],
      "image/png": "[encoded data removed]"
     },
     "metadata": {},
     "output_type": "display_data"
    }
   ],
   "execution_count": 33
  },
  {
   "metadata": {},
   "cell_type": "markdown",
   "source": [
    "# Tehtävä 4\n",
    "\n",
    "X = [1, x, x^2]"
   ],
   "id": "ee8d11d312aa27bf"
  },
  {
   "metadata": {
    "ExecuteTime": {
     "end_time": "2025-04-02T15:12:50.434522Z",
     "start_time": "2025-04-02T15:12:50.427590Z"
    }
   },
   "cell_type": "code",
   "source": [
    "X = np.vstack([np.ones(len(x)), x, x**2]).T\n",
    "print(X)"
   ],
   "id": "3314c6b76d5264ef",
   "outputs": [
    {
     "name": "stdout",
     "output_type": "stream",
     "text": [
      "[[  1.   1.   1.]\n",
      " [  1.   2.   4.]\n",
      " [  1.   3.   9.]\n",
      " [  1.   4.  16.]\n",
      " [  1.   5.  25.]\n",
      " [  1.   6.  36.]\n",
      " [  1.   7.  49.]\n",
      " [  1.   8.  64.]\n",
      " [  1.   9.  81.]\n",
      " [  1.  10. 100.]]\n"
     ]
    }
   ],
   "execution_count": 34
  },
  {
   "metadata": {
    "ExecuteTime": {
     "end_time": "2025-04-02T15:12:50.528115Z",
     "start_time": "2025-04-02T15:12:50.523696Z"
    }
   },
   "cell_type": "code",
   "source": [
    "M = la.inv(X.T @ X) @ X.T @ y\n",
    "print(M)"
   ],
   "id": "60a1e9e769de2802",
   "outputs": [
    {
     "name": "stdout",
     "output_type": "stream",
     "text": [
      "[ 2.93333333  8.5969697  -0.34848485]\n"
     ]
    }
   ],
   "execution_count": 35
  },
  {
   "metadata": {
    "ExecuteTime": {
     "end_time": "2025-04-02T15:12:50.693570Z",
     "start_time": "2025-04-02T15:12:50.623316Z"
    }
   },
   "cell_type": "code",
   "source": [
    "# Piirretään kuavaaja ja regressiokäyrä\n",
    "xx = np.linspace(0, 10, 100)\n",
    "# Muodostetaan matriisi XX = [1, xx, xx^2]\n",
    "XX = np.vstack([np.ones(len(xx)), xx, xx**2]).T\n",
    "yy = XX @ M\n",
    "plt.plot(x, y, 'o')\n",
    "plt.plot(xx, yy)\n",
    "plt.show()"
   ],
   "id": "fbe0eb9c8c1780b",
   "outputs": [
    {
     "data": {
      "text/plain": [
       "<Figure size 640x480 with 1 Axes>"
      ],
      "image/png": "[encoded data removed]"
     },
     "metadata": {},
     "output_type": "display_data"
    }
   ],
   "execution_count": 36
  }
 ],
 "metadata": {
  "kernelspec": {
   "display_name": "Python 3 (ipykernel)",
   "language": "python",
   "name": "python3"
  },
  "language_info": {
   "codemirror_mode": {
    "name": "ipython",
    "version": 3
   },
   "file_extension": ".py",
   "mimetype": "text/x-python",
   "name": "python",
   "nbconvert_exporter": "python",
   "pygments_lexer": "ipython3",
   "version": "3.12.9"
  }
 },
 "nbformat": 4,
 "nbformat_minor": 5
}
