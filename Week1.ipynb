{
 "cells": [
  {
   "cell_type": "code",
   "id": "initial_id",
   "metadata": {
    "collapsed": true,
    "ExecuteTime": {
     "end_time": "2025-03-24T16:14:22.362496Z",
     "start_time": "2025-03-24T16:14:22.359469Z"
    }
   },
   "source": [
    "from keras.src.models import Sequential\n",
    "from keras.src.layers import Dense, Input\n",
    "import numpy as np\n",
    "import pandas as pd\n",
    "import matplotlib.pyplot as plt"
   ],
   "outputs": [],
   "execution_count": 8
  },
  {
   "metadata": {
    "ExecuteTime": {
     "end_time": "2025-03-24T16:14:22.404729Z",
     "start_time": "2025-03-24T16:14:22.392541Z"
    }
   },
   "cell_type": "code",
   "source": [
    "iris = pd.read_csv('./datasets/iris.data.txt', header=None)\n",
    "iris.columns = ['sepal_length', 'sepal_width', 'petal_length', 'petal_width', 'species']\n",
    "\n",
    "iris.head()"
   ],
   "id": "e67d07b87e1cf9cd",
   "outputs": [
    {
     "data": {
      "text/plain": [
       "   sepal_length  sepal_width  petal_length  petal_width      species\n",
       "0           5.1          3.5           1.4          0.2  Iris-setosa\n",
       "1           4.9          3.0           1.4          0.2  Iris-setosa\n",
       "2           4.7          3.2           1.3          0.2  Iris-setosa\n",
       "3           4.6          3.1           1.5          0.2  Iris-setosa\n",
       "4           5.0          3.6           1.4          0.2  Iris-setosa"
      ],
      "text/html": [
       "<div>\n",
       "<style scoped>\n",
       "    .dataframe tbody tr th:only-of-type {\n",
       "        vertical-align: middle;\n",
       "    }\n",
       "\n",
       "    .dataframe tbody tr th {\n",
       "        vertical-align: top;\n",
       "    }\n",
       "\n",
       "    .dataframe thead th {\n",
       "        text-align: right;\n",
       "    }\n",
       "</style>\n",
       "<table border=\"1\" class=\"dataframe\">\n",
       "  <thead>\n",
       "    <tr style=\"text-align: right;\">\n",
       "      <th></th>\n",
       "      <th>sepal_length</th>\n",
       "      <th>sepal_width</th>\n",
       "      <th>petal_length</th>\n",
       "      <th>petal_width</th>\n",
       "      <th>species</th>\n",
       "    </tr>\n",
       "  </thead>\n",
       "  <tbody>\n",
       "    <tr>\n",
       "      <th>0</th>\n",
       "      <td>5.1</td>\n",
       "      <td>3.5</td>\n",
       "      <td>1.4</td>\n",
       "      <td>0.2</td>\n",
       "      <td>Iris-setosa</td>\n",
       "    </tr>\n",
       "    <tr>\n",
       "      <th>1</th>\n",
       "      <td>4.9</td>\n",
       "      <td>3.0</td>\n",
       "      <td>1.4</td>\n",
       "      <td>0.2</td>\n",
       "      <td>Iris-setosa</td>\n",
       "    </tr>\n",
       "    <tr>\n",
       "      <th>2</th>\n",
       "      <td>4.7</td>\n",
       "      <td>3.2</td>\n",
       "      <td>1.3</td>\n",
       "      <td>0.2</td>\n",
       "      <td>Iris-setosa</td>\n",
       "    </tr>\n",
       "    <tr>\n",
       "      <th>3</th>\n",
       "      <td>4.6</td>\n",
       "      <td>3.1</td>\n",
       "      <td>1.5</td>\n",
       "      <td>0.2</td>\n",
       "      <td>Iris-setosa</td>\n",
       "    </tr>\n",
       "    <tr>\n",
       "      <th>4</th>\n",
       "      <td>5.0</td>\n",
       "      <td>3.6</td>\n",
       "      <td>1.4</td>\n",
       "      <td>0.2</td>\n",
       "      <td>Iris-setosa</td>\n",
       "    </tr>\n",
       "  </tbody>\n",
       "</table>\n",
       "</div>"
      ]
     },
     "execution_count": 9,
     "metadata": {},
     "output_type": "execute_result"
    }
   ],
   "execution_count": 9
  },
  {
   "metadata": {},
   "cell_type": "markdown",
   "source": "One-hot-enkoodataan 'species'-sarake.",
   "id": "3ef17fc29b2b10fe"
  },
  {
   "metadata": {
    "ExecuteTime": {
     "end_time": "2025-03-24T16:14:22.455450Z",
     "start_time": "2025-03-24T16:14:22.443249Z"
    }
   },
   "cell_type": "code",
   "source": [
    "iris = pd.get_dummies(iris, columns=['species'], dtype=int)\n",
    "iris.head()"
   ],
   "id": "1ddf2f648ec06f56",
   "outputs": [
    {
     "data": {
      "text/plain": [
       "   sepal_length  sepal_width  petal_length  petal_width  species_Iris-setosa  \\\n",
       "0           5.1          3.5           1.4          0.2                    1   \n",
       "1           4.9          3.0           1.4          0.2                    1   \n",
       "2           4.7          3.2           1.3          0.2                    1   \n",
       "3           4.6          3.1           1.5          0.2                    1   \n",
       "4           5.0          3.6           1.4          0.2                    1   \n",
       "\n",
       "   species_Iris-versicolor  species_Iris-virginica  \n",
       "0                        0                       0  \n",
       "1                        0                       0  \n",
       "2                        0                       0  \n",
       "3                        0                       0  \n",
       "4                        0                       0  "
      ],
      "text/html": [
       "<div>\n",
       "<style scoped>\n",
       "    .dataframe tbody tr th:only-of-type {\n",
       "        vertical-align: middle;\n",
       "    }\n",
       "\n",
       "    .dataframe tbody tr th {\n",
       "        vertical-align: top;\n",
       "    }\n",
       "\n",
       "    .dataframe thead th {\n",
       "        text-align: right;\n",
       "    }\n",
       "</style>\n",
       "<table border=\"1\" class=\"dataframe\">\n",
       "  <thead>\n",
       "    <tr style=\"text-align: right;\">\n",
       "      <th></th>\n",
       "      <th>sepal_length</th>\n",
       "      <th>sepal_width</th>\n",
       "      <th>petal_length</th>\n",
       "      <th>petal_width</th>\n",
       "      <th>species_Iris-setosa</th>\n",
       "      <th>species_Iris-versicolor</th>\n",
       "      <th>species_Iris-virginica</th>\n",
       "    </tr>\n",
       "  </thead>\n",
       "  <tbody>\n",
       "    <tr>\n",
       "      <th>0</th>\n",
       "      <td>5.1</td>\n",
       "      <td>3.5</td>\n",
       "      <td>1.4</td>\n",
       "      <td>0.2</td>\n",
       "      <td>1</td>\n",
       "      <td>0</td>\n",
       "      <td>0</td>\n",
       "    </tr>\n",
       "    <tr>\n",
       "      <th>1</th>\n",
       "      <td>4.9</td>\n",
       "      <td>3.0</td>\n",
       "      <td>1.4</td>\n",
       "      <td>0.2</td>\n",
       "      <td>1</td>\n",
       "      <td>0</td>\n",
       "      <td>0</td>\n",
       "    </tr>\n",
       "    <tr>\n",
       "      <th>2</th>\n",
       "      <td>4.7</td>\n",
       "      <td>3.2</td>\n",
       "      <td>1.3</td>\n",
       "      <td>0.2</td>\n",
       "      <td>1</td>\n",
       "      <td>0</td>\n",
       "      <td>0</td>\n",
       "    </tr>\n",
       "    <tr>\n",
       "      <th>3</th>\n",
       "      <td>4.6</td>\n",
       "      <td>3.1</td>\n",
       "      <td>1.5</td>\n",
       "      <td>0.2</td>\n",
       "      <td>1</td>\n",
       "      <td>0</td>\n",
       "      <td>0</td>\n",
       "    </tr>\n",
       "    <tr>\n",
       "      <th>4</th>\n",
       "      <td>5.0</td>\n",
       "      <td>3.6</td>\n",
       "      <td>1.4</td>\n",
       "      <td>0.2</td>\n",
       "      <td>1</td>\n",
       "      <td>0</td>\n",
       "      <td>0</td>\n",
       "    </tr>\n",
       "  </tbody>\n",
       "</table>\n",
       "</div>"
      ]
     },
     "execution_count": 10,
     "metadata": {},
     "output_type": "execute_result"
    }
   ],
   "execution_count": 10
  },
  {
   "metadata": {},
   "cell_type": "markdown",
   "source": "Muutetaan DataFrame NumPy-taulukoksi ja sekoitetaan data.",
   "id": "f4782b14f50196ff"
  },
  {
   "metadata": {
    "ExecuteTime": {
     "end_time": "2025-03-24T16:14:22.534598Z",
     "start_time": "2025-03-24T16:14:22.529131Z"
    }
   },
   "cell_type": "code",
   "source": [
    "iris = iris.to_numpy()\n",
    "np.random.shuffle(iris)\n",
    "\n",
    "X = iris[:, :4]\n",
    "y = iris[:, 4:]\n",
    "\n",
    "print(\"Input data shape: \", X.shape)\n",
    "print(\"Output data shape: \", y.shape)"
   ],
   "id": "f9b4de61f946538a",
   "outputs": [
    {
     "name": "stdout",
     "output_type": "stream",
     "text": [
      "Input data shape:  (150, 4)\n",
      "Output data shape:  (150, 3)\n"
     ]
    }
   ],
   "execution_count": 11
  },
  {
   "metadata": {
    "ExecuteTime": {
     "end_time": "2025-03-24T16:14:22.936854Z",
     "start_time": "2025-03-24T16:14:22.721845Z"
    }
   },
   "cell_type": "code",
   "source": [
    "model = Sequential([\n",
    "    Input(shape=(4,)),\n",
    "    Dense(10, activation='relu'),\n",
    "    Dense(3, activation='softmax')\n",
    "])"
   ],
   "id": "362e127ef7e28273",
   "outputs": [],
   "execution_count": 12
  },
  {
   "metadata": {
    "ExecuteTime": {
     "end_time": "2025-03-24T16:14:22.991152Z",
     "start_time": "2025-03-24T16:14:22.980059Z"
    }
   },
   "cell_type": "code",
   "source": [
    "model.compile(optimizer='adam',\n",
    "              loss='categorical_crossentropy',\n",
    "              metrics=['accuracy'])"
   ],
   "id": "d3ad180b2c58e66f",
   "outputs": [],
   "execution_count": 13
  },
  {
   "metadata": {},
   "cell_type": "markdown",
   "source": "Muistetaan validation split, jotta voimme seurata mallin suorituskykyä.",
   "id": "7eb734f17e38b3c8"
  },
  {
   "metadata": {
    "ExecuteTime": {
     "end_time": "2025-03-24T16:14:26.709633Z",
     "start_time": "2025-03-24T16:14:23.011604Z"
    }
   },
   "cell_type": "code",
   "source": "history = model.fit(X, y, epochs=50, batch_size=10, validation_split=0.2)",
   "id": "48c1d589efc8158",
   "outputs": [
    {
     "name": "stdout",
     "output_type": "stream",
     "text": [
      "Epoch 1/50\n",
      "\u001B[1m12/12\u001B[0m \u001B[32m━━━━━━━━━━━━━━━━━━━━\u001B[0m\u001B[37m\u001B[0m \u001B[1m1s\u001B[0m 12ms/step - accuracy: 0.3337 - loss: 2.5554 - val_accuracy: 0.2000 - val_loss: 2.4559\n",
      "Epoch 2/50\n",
      "\u001B[1m12/12\u001B[0m \u001B[32m━━━━━━━━━━━━━━━━━━━━\u001B[0m\u001B[37m\u001B[0m \u001B[1m0s\u001B[0m 3ms/step - accuracy: 0.3690 - loss: 1.9478 - val_accuracy: 0.1667 - val_loss: 2.0272\n",
      "Epoch 3/50\n",
      "\u001B[1m12/12\u001B[0m \u001B[32m━━━━━━━━━━━━━━━━━━━━\u001B[0m\u001B[37m\u001B[0m \u001B[1m0s\u001B[0m 3ms/step - accuracy: 0.3359 - loss: 1.6902 - val_accuracy: 0.1667 - val_loss: 1.7242\n",
      "Epoch 4/50\n",
      "\u001B[1m12/12\u001B[0m \u001B[32m━━━━━━━━━━━━━━━━━━━━\u001B[0m\u001B[37m\u001B[0m \u001B[1m0s\u001B[0m 3ms/step - accuracy: 0.1946 - loss: 1.5154 - val_accuracy: 0.1000 - val_loss: 1.5122\n",
      "Epoch 5/50\n",
      "\u001B[1m12/12\u001B[0m \u001B[32m━━━━━━━━━━━━━━━━━━━━\u001B[0m\u001B[37m\u001B[0m \u001B[1m0s\u001B[0m 4ms/step - accuracy: 0.1962 - loss: 1.2934 - val_accuracy: 0.1333 - val_loss: 1.3694\n",
      "Epoch 6/50\n",
      "\u001B[1m12/12\u001B[0m \u001B[32m━━━━━━━━━━━━━━━━━━━━\u001B[0m\u001B[37m\u001B[0m \u001B[1m0s\u001B[0m 3ms/step - accuracy: 0.1567 - loss: 1.2518 - val_accuracy: 0.1000 - val_loss: 1.2653\n",
      "Epoch 7/50\n",
      "\u001B[1m12/12\u001B[0m \u001B[32m━━━━━━━━━━━━━━━━━━━━\u001B[0m\u001B[37m\u001B[0m \u001B[1m0s\u001B[0m 3ms/step - accuracy: 0.1346 - loss: 1.2146 - val_accuracy: 0.1000 - val_loss: 1.1944\n",
      "Epoch 8/50\n",
      "\u001B[1m12/12\u001B[0m \u001B[32m━━━━━━━━━━━━━━━━━━━━\u001B[0m\u001B[37m\u001B[0m \u001B[1m0s\u001B[0m 4ms/step - accuracy: 0.1351 - loss: 1.1680 - val_accuracy: 0.1333 - val_loss: 1.1457\n",
      "Epoch 9/50\n",
      "\u001B[1m12/12\u001B[0m \u001B[32m━━━━━━━━━━━━━━━━━━━━\u001B[0m\u001B[37m\u001B[0m \u001B[1m0s\u001B[0m 3ms/step - accuracy: 0.1286 - loss: 1.1539 - val_accuracy: 0.0667 - val_loss: 1.1025\n",
      "Epoch 10/50\n",
      "\u001B[1m12/12\u001B[0m \u001B[32m━━━━━━━━━━━━━━━━━━━━\u001B[0m\u001B[37m\u001B[0m \u001B[1m0s\u001B[0m 3ms/step - accuracy: 0.0849 - loss: 1.1251 - val_accuracy: 0.0667 - val_loss: 1.0711\n",
      "Epoch 11/50\n",
      "\u001B[1m12/12\u001B[0m \u001B[32m━━━━━━━━━━━━━━━━━━━━\u001B[0m\u001B[37m\u001B[0m \u001B[1m0s\u001B[0m 4ms/step - accuracy: 0.1866 - loss: 1.1323 - val_accuracy: 0.1333 - val_loss: 1.0523\n",
      "Epoch 12/50\n",
      "\u001B[1m12/12\u001B[0m \u001B[32m━━━━━━━━━━━━━━━━━━━━\u001B[0m\u001B[37m\u001B[0m \u001B[1m0s\u001B[0m 3ms/step - accuracy: 0.1288 - loss: 1.0854 - val_accuracy: 0.0667 - val_loss: 1.0169\n",
      "Epoch 13/50\n",
      "\u001B[1m12/12\u001B[0m \u001B[32m━━━━━━━━━━━━━━━━━━━━\u001B[0m\u001B[37m\u001B[0m \u001B[1m0s\u001B[0m 3ms/step - accuracy: 0.0895 - loss: 1.0737 - val_accuracy: 0.1000 - val_loss: 0.9972\n",
      "Epoch 14/50\n",
      "\u001B[1m12/12\u001B[0m \u001B[32m━━━━━━━━━━━━━━━━━━━━\u001B[0m\u001B[37m\u001B[0m \u001B[1m0s\u001B[0m 3ms/step - accuracy: 0.1463 - loss: 1.0676 - val_accuracy: 0.1667 - val_loss: 0.9714\n",
      "Epoch 15/50\n",
      "\u001B[1m12/12\u001B[0m \u001B[32m━━━━━━━━━━━━━━━━━━━━\u001B[0m\u001B[37m\u001B[0m \u001B[1m0s\u001B[0m 3ms/step - accuracy: 0.2087 - loss: 1.0224 - val_accuracy: 0.4333 - val_loss: 0.9504\n",
      "Epoch 16/50\n",
      "\u001B[1m12/12\u001B[0m \u001B[32m━━━━━━━━━━━━━━━━━━━━\u001B[0m\u001B[37m\u001B[0m \u001B[1m0s\u001B[0m 3ms/step - accuracy: 0.2709 - loss: 1.0052 - val_accuracy: 0.5000 - val_loss: 0.9209\n",
      "Epoch 17/50\n",
      "\u001B[1m12/12\u001B[0m \u001B[32m━━━━━━━━━━━━━━━━━━━━\u001B[0m\u001B[37m\u001B[0m \u001B[1m0s\u001B[0m 3ms/step - accuracy: 0.3167 - loss: 0.9920 - val_accuracy: 0.4667 - val_loss: 0.8946\n",
      "Epoch 18/50\n",
      "\u001B[1m12/12\u001B[0m \u001B[32m━━━━━━━━━━━━━━━━━━━━\u001B[0m\u001B[37m\u001B[0m \u001B[1m0s\u001B[0m 3ms/step - accuracy: 0.3791 - loss: 0.9515 - val_accuracy: 0.5333 - val_loss: 0.8790\n",
      "Epoch 19/50\n",
      "\u001B[1m12/12\u001B[0m \u001B[32m━━━━━━━━━━━━━━━━━━━━\u001B[0m\u001B[37m\u001B[0m \u001B[1m0s\u001B[0m 3ms/step - accuracy: 0.4531 - loss: 0.9231 - val_accuracy: 0.6000 - val_loss: 0.8657\n",
      "Epoch 20/50\n",
      "\u001B[1m12/12\u001B[0m \u001B[32m━━━━━━━━━━━━━━━━━━━━\u001B[0m\u001B[37m\u001B[0m \u001B[1m0s\u001B[0m 3ms/step - accuracy: 0.4826 - loss: 0.9224 - val_accuracy: 0.4667 - val_loss: 0.8322\n",
      "Epoch 21/50\n",
      "\u001B[1m12/12\u001B[0m \u001B[32m━━━━━━━━━━━━━━━━━━━━\u001B[0m\u001B[37m\u001B[0m \u001B[1m0s\u001B[0m 3ms/step - accuracy: 0.4151 - loss: 0.8878 - val_accuracy: 0.4667 - val_loss: 0.8096\n",
      "Epoch 22/50\n",
      "\u001B[1m12/12\u001B[0m \u001B[32m━━━━━━━━━━━━━━━━━━━━\u001B[0m\u001B[37m\u001B[0m \u001B[1m0s\u001B[0m 3ms/step - accuracy: 0.3977 - loss: 0.8766 - val_accuracy: 0.5000 - val_loss: 0.7983\n",
      "Epoch 23/50\n",
      "\u001B[1m12/12\u001B[0m \u001B[32m━━━━━━━━━━━━━━━━━━━━\u001B[0m\u001B[37m\u001B[0m \u001B[1m0s\u001B[0m 3ms/step - accuracy: 0.3877 - loss: 0.8848 - val_accuracy: 0.5000 - val_loss: 0.7825\n",
      "Epoch 24/50\n",
      "\u001B[1m12/12\u001B[0m \u001B[32m━━━━━━━━━━━━━━━━━━━━\u001B[0m\u001B[37m\u001B[0m \u001B[1m0s\u001B[0m 3ms/step - accuracy: 0.4729 - loss: 0.8306 - val_accuracy: 0.5000 - val_loss: 0.7564\n",
      "Epoch 25/50\n",
      "\u001B[1m12/12\u001B[0m \u001B[32m━━━━━━━━━━━━━━━━━━━━\u001B[0m\u001B[37m\u001B[0m \u001B[1m0s\u001B[0m 3ms/step - accuracy: 0.4713 - loss: 0.7906 - val_accuracy: 0.5000 - val_loss: 0.7365\n",
      "Epoch 26/50\n",
      "\u001B[1m12/12\u001B[0m \u001B[32m━━━━━━━━━━━━━━━━━━━━\u001B[0m\u001B[37m\u001B[0m \u001B[1m0s\u001B[0m 3ms/step - accuracy: 0.3683 - loss: 0.8150 - val_accuracy: 0.5667 - val_loss: 0.7213\n",
      "Epoch 27/50\n",
      "\u001B[1m12/12\u001B[0m \u001B[32m━━━━━━━━━━━━━━━━━━━━\u001B[0m\u001B[37m\u001B[0m \u001B[1m0s\u001B[0m 3ms/step - accuracy: 0.4394 - loss: 0.8163 - val_accuracy: 0.5667 - val_loss: 0.7226\n",
      "Epoch 28/50\n",
      "\u001B[1m12/12\u001B[0m \u001B[32m━━━━━━━━━━━━━━━━━━━━\u001B[0m\u001B[37m\u001B[0m \u001B[1m0s\u001B[0m 3ms/step - accuracy: 0.4472 - loss: 0.7837 - val_accuracy: 0.5333 - val_loss: 0.6907\n",
      "Epoch 29/50\n",
      "\u001B[1m12/12\u001B[0m \u001B[32m━━━━━━━━━━━━━━━━━━━━\u001B[0m\u001B[37m\u001B[0m \u001B[1m0s\u001B[0m 3ms/step - accuracy: 0.4139 - loss: 0.7975 - val_accuracy: 0.6000 - val_loss: 0.6950\n",
      "Epoch 30/50\n",
      "\u001B[1m12/12\u001B[0m \u001B[32m━━━━━━━━━━━━━━━━━━━━\u001B[0m\u001B[37m\u001B[0m \u001B[1m0s\u001B[0m 2ms/step - accuracy: 0.5688 - loss: 0.7407 - val_accuracy: 0.5667 - val_loss: 0.6738\n",
      "Epoch 31/50\n",
      "\u001B[1m12/12\u001B[0m \u001B[32m━━━━━━━━━━━━━━━━━━━━\u001B[0m\u001B[37m\u001B[0m \u001B[1m0s\u001B[0m 3ms/step - accuracy: 0.4150 - loss: 0.7633 - val_accuracy: 0.5333 - val_loss: 0.6558\n",
      "Epoch 32/50\n",
      "\u001B[1m12/12\u001B[0m \u001B[32m━━━━━━━━━━━━━━━━━━━━\u001B[0m\u001B[37m\u001B[0m \u001B[1m0s\u001B[0m 3ms/step - accuracy: 0.4560 - loss: 0.7290 - val_accuracy: 0.6667 - val_loss: 0.6407\n",
      "Epoch 33/50\n",
      "\u001B[1m12/12\u001B[0m \u001B[32m━━━━━━━━━━━━━━━━━━━━\u001B[0m\u001B[37m\u001B[0m \u001B[1m0s\u001B[0m 3ms/step - accuracy: 0.4455 - loss: 0.7389 - val_accuracy: 0.6667 - val_loss: 0.6298\n",
      "Epoch 34/50\n",
      "\u001B[1m12/12\u001B[0m \u001B[32m━━━━━━━━━━━━━━━━━━━━\u001B[0m\u001B[37m\u001B[0m \u001B[1m0s\u001B[0m 3ms/step - accuracy: 0.5139 - loss: 0.7096 - val_accuracy: 0.7000 - val_loss: 0.6184\n",
      "Epoch 35/50\n",
      "\u001B[1m12/12\u001B[0m \u001B[32m━━━━━━━━━━━━━━━━━━━━\u001B[0m\u001B[37m\u001B[0m \u001B[1m0s\u001B[0m 3ms/step - accuracy: 0.5070 - loss: 0.7209 - val_accuracy: 0.7000 - val_loss: 0.6080\n",
      "Epoch 36/50\n",
      "\u001B[1m12/12\u001B[0m \u001B[32m━━━━━━━━━━━━━━━━━━━━\u001B[0m\u001B[37m\u001B[0m \u001B[1m0s\u001B[0m 3ms/step - accuracy: 0.4973 - loss: 0.7131 - val_accuracy: 0.7000 - val_loss: 0.6056\n",
      "Epoch 37/50\n",
      "\u001B[1m12/12\u001B[0m \u001B[32m━━━━━━━━━━━━━━━━━━━━\u001B[0m\u001B[37m\u001B[0m \u001B[1m0s\u001B[0m 3ms/step - accuracy: 0.5301 - loss: 0.6623 - val_accuracy: 0.7000 - val_loss: 0.5801\n",
      "Epoch 38/50\n",
      "\u001B[1m12/12\u001B[0m \u001B[32m━━━━━━━━━━━━━━━━━━━━\u001B[0m\u001B[37m\u001B[0m \u001B[1m0s\u001B[0m 3ms/step - accuracy: 0.6004 - loss: 0.6540 - val_accuracy: 0.7000 - val_loss: 0.5720\n",
      "Epoch 39/50\n",
      "\u001B[1m12/12\u001B[0m \u001B[32m━━━━━━━━━━━━━━━━━━━━\u001B[0m\u001B[37m\u001B[0m \u001B[1m0s\u001B[0m 3ms/step - accuracy: 0.5712 - loss: 0.6649 - val_accuracy: 0.8000 - val_loss: 0.5699\n",
      "Epoch 40/50\n",
      "\u001B[1m12/12\u001B[0m \u001B[32m━━━━━━━━━━━━━━━━━━━━\u001B[0m\u001B[37m\u001B[0m \u001B[1m0s\u001B[0m 2ms/step - accuracy: 0.6044 - loss: 0.6136 - val_accuracy: 0.8000 - val_loss: 0.5643\n",
      "Epoch 41/50\n",
      "\u001B[1m12/12\u001B[0m \u001B[32m━━━━━━━━━━━━━━━━━━━━\u001B[0m\u001B[37m\u001B[0m \u001B[1m0s\u001B[0m 3ms/step - accuracy: 0.5618 - loss: 0.6436 - val_accuracy: 0.7000 - val_loss: 0.5474\n",
      "Epoch 42/50\n",
      "\u001B[1m12/12\u001B[0m \u001B[32m━━━━━━━━━━━━━━━━━━━━\u001B[0m\u001B[37m\u001B[0m \u001B[1m0s\u001B[0m 3ms/step - accuracy: 0.6424 - loss: 0.6145 - val_accuracy: 0.7333 - val_loss: 0.5400\n",
      "Epoch 43/50\n",
      "\u001B[1m12/12\u001B[0m \u001B[32m━━━━━━━━━━━━━━━━━━━━\u001B[0m\u001B[37m\u001B[0m \u001B[1m0s\u001B[0m 3ms/step - accuracy: 0.5248 - loss: 0.6329 - val_accuracy: 0.8333 - val_loss: 0.5361\n",
      "Epoch 44/50\n",
      "\u001B[1m12/12\u001B[0m \u001B[32m━━━━━━━━━━━━━━━━━━━━\u001B[0m\u001B[37m\u001B[0m \u001B[1m0s\u001B[0m 2ms/step - accuracy: 0.6500 - loss: 0.5999 - val_accuracy: 0.8000 - val_loss: 0.5234\n",
      "Epoch 45/50\n",
      "\u001B[1m12/12\u001B[0m \u001B[32m━━━━━━━━━━━━━━━━━━━━\u001B[0m\u001B[37m\u001B[0m \u001B[1m0s\u001B[0m 3ms/step - accuracy: 0.6441 - loss: 0.6030 - val_accuracy: 0.7667 - val_loss: 0.5140\n",
      "Epoch 46/50\n",
      "\u001B[1m12/12\u001B[0m \u001B[32m━━━━━━━━━━━━━━━━━━━━\u001B[0m\u001B[37m\u001B[0m \u001B[1m0s\u001B[0m 3ms/step - accuracy: 0.6527 - loss: 0.5937 - val_accuracy: 0.8667 - val_loss: 0.5129\n",
      "Epoch 47/50\n",
      "\u001B[1m12/12\u001B[0m \u001B[32m━━━━━━━━━━━━━━━━━━━━\u001B[0m\u001B[37m\u001B[0m \u001B[1m0s\u001B[0m 2ms/step - accuracy: 0.6945 - loss: 0.5958 - val_accuracy: 0.8667 - val_loss: 0.5058\n",
      "Epoch 48/50\n",
      "\u001B[1m12/12\u001B[0m \u001B[32m━━━━━━━━━━━━━━━━━━━━\u001B[0m\u001B[37m\u001B[0m \u001B[1m0s\u001B[0m 3ms/step - accuracy: 0.7370 - loss: 0.5940 - val_accuracy: 0.8333 - val_loss: 0.4930\n",
      "Epoch 49/50\n",
      "\u001B[1m12/12\u001B[0m \u001B[32m━━━━━━━━━━━━━━━━━━━━\u001B[0m\u001B[37m\u001B[0m \u001B[1m0s\u001B[0m 3ms/step - accuracy: 0.6901 - loss: 0.5872 - val_accuracy: 0.7333 - val_loss: 0.4822\n",
      "Epoch 50/50\n",
      "\u001B[1m12/12\u001B[0m \u001B[32m━━━━━━━━━━━━━━━━━━━━\u001B[0m\u001B[37m\u001B[0m \u001B[1m0s\u001B[0m 3ms/step - accuracy: 0.7025 - loss: 0.5747 - val_accuracy: 0.8333 - val_loss: 0.4830\n"
     ]
    }
   ],
   "execution_count": 14
  },
  {
   "metadata": {
    "ExecuteTime": {
     "end_time": "2025-03-24T16:14:45.979002Z",
     "start_time": "2025-03-24T16:14:45.763997Z"
    }
   },
   "cell_type": "code",
   "source": [
    "plt.plot(history.history[\"accuracy\"])\n",
    "plt.plot(history.history[\"val_accuracy\"])\n",
    "plt.grid()\n",
    "plt.show()\n",
    "\n",
    "print (\"Test accuracy: \", history.history[\"accuracy\"][-1])\n",
    "print (\"Validation accuracy: \", history.history[\"val_accuracy\"][-1])"
   ],
   "id": "625db4f9f13e5e8a",
   "outputs": [
    {
     "data": {
      "text/plain": [
       "<Figure size 640x480 with 1 Axes>"
      ],
      "image/png": "[encoded data removed]"
     },
     "metadata": {},
     "output_type": "display_data"
    },
    {
     "name": "stdout",
     "output_type": "stream",
     "text": [
      "Test accuracy:  0.7250000238418579\n",
      "Validation accuracy:  0.8333333134651184\n"
     ]
    }
   ],
   "execution_count": 15
  }
 ],
 "metadata": {
  "kernelspec": {
   "display_name": "Python 3",
   "language": "python",
   "name": "python3"
  },
  "language_info": {
   "codemirror_mode": {
    "name": "ipython",
    "version": 2
   },
   "file_extension": ".py",
   "mimetype": "text/x-python",
   "name": "python",
   "nbconvert_exporter": "python",
   "pygments_lexer": "ipython2",
   "version": "2.7.6"
  }
 },
 "nbformat": 4,
 "nbformat_minor": 5
}
